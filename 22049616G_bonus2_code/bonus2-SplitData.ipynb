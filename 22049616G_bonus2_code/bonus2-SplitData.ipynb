{
 "cells": [
  {
   "cell_type": "code",
   "execution_count": 25,
   "id": "4a73bac3",
   "metadata": {},
   "outputs": [],
   "source": [
    "import pandas as pd\n",
    "import numpy as np\n",
    "from sklearn.model_selection import train_test_split"
   ]
  },
  {
   "cell_type": "markdown",
   "id": "998007bb",
   "metadata": {},
   "source": [
    "### 1. Non-IID (dirichlet partition)"
   ]
  },
  {
   "cell_type": "code",
   "execution_count": 26,
   "id": "a82b751c",
   "metadata": {},
   "outputs": [],
   "source": [
    "data = pd.read_csv(\"DataAfterPreprocessing.csv\")\n",
    "X = data.iloc[:,:-1].values\n",
    "y = data.iloc[:,-1].values"
   ]
  },
  {
   "cell_type": "code",
   "execution_count": 27,
   "id": "ae65f76a",
   "metadata": {},
   "outputs": [],
   "source": [
    "# First randomly split train and test dataset\n",
    "X_train, X_test, y_train, y_test = train_test_split(X, y, test_size=0.25, random_state=0, stratify=y)"
   ]
  },
  {
   "cell_type": "code",
   "execution_count": 28,
   "id": "fdd75f7b",
   "metadata": {},
   "outputs": [],
   "source": [
    "# Then Non-IID split the train dataset\n",
    "def dirichlet_partition(data_label, alpha, user_num):\n",
    "    index = np.arange(len(data_label))\n",
    "\n",
    "    index_label = np.vstack((index, data_label))\n",
    "    index_label = index_label[:, index_label[1,:].argsort()]\n",
    "\n",
    "    labels = np.unique(data_label, axis=0)\n",
    "    \n",
    "    data_dict = data_organize(index_label, labels)\n",
    "   \n",
    "    data_partition_profile = {}\n",
    "    for i in range(user_num):\n",
    "        data_partition_profile[i] = []\n",
    "\n",
    "    ## Distribute rest data\n",
    "    for label in data_dict:\n",
    "        proportions = np.random.dirichlet(np.repeat(alpha, user_num))\n",
    "        proportions = len(data_dict[label]) * proportions\n",
    "\n",
    "        for user in data_partition_profile:\n",
    "            data_partition_profile[user]   \\\n",
    "                = set.union(set(np.random.choice(data_dict[label], int(proportions[user]) , replace = False)), data_partition_profile[user])\n",
    "            data_dict[label] = list(set(data_dict[label])-data_partition_profile[user])\n",
    "\n",
    "        while len(data_dict[label]) != 0:\n",
    "            rest_data = data_dict[label][0]\n",
    "            user = np.random.randint(0, user_num)\n",
    "            data_partition_profile[user].add(rest_data)\n",
    "            data_dict[label].remove(rest_data)\n",
    "\n",
    "    for user in data_partition_profile:\n",
    "        data_partition_profile[user] = list(data_partition_profile[user])\n",
    "        np.random.shuffle(data_partition_profile[user])\n",
    "\n",
    "    return data_partition_profile\n",
    "\n",
    "\n",
    "def data_organize(index_label, labels):\n",
    "    data_dict = {}\n",
    "\n",
    "    labels = np.unique(labels, axis=0)\n",
    "    for one in labels:\n",
    "        data_dict[one] = []\n",
    "\n",
    "    for i in range(len(index_label[1, :])):\n",
    "        data_dict[index_label[1, i]].append(index_label[0, i])\n",
    "    return data_dict\n"
   ]
  },
  {
   "cell_type": "code",
   "execution_count": 29,
   "id": "0582b5d5",
   "metadata": {},
   "outputs": [],
   "source": [
    "alpha = 0.5\n",
    "user_num = 4\n",
    "partition_result = dirichlet_partition(y_train, alpha, user_num)\n",
    "result = {}\n",
    "for user in partition_result:\n",
    "    X_sub = X_train[partition_result[user], :]\n",
    "    y_sub = np.array(y_train[partition_result[user]]).reshape((-1,1))\n",
    "    result[user] = np.hstack((X_sub, y_sub))\n",
    "# print(result)\n",
    "# 训练集Non-IID划分的最终结果为result\n",
    "# result结构:{0:[[matrix]], 1:[[matrix]], 2:[[matrix]], 3:[[matrix]]}；此处0代表user0，以此类推。"
   ]
  },
  {
   "cell_type": "markdown",
   "id": "95759853",
   "metadata": {},
   "source": [
    "First, randomly pick 25% of samples as testing data. Then split the remaining 75% of samples as training data into 4 non-iid subsets for 4 real estate companies. That is we split samples of each category in training dataset into 4 parts according to dirichlet distribution (with alpha 0.5) for 4 companies. "
   ]
  },
  {
   "cell_type": "code",
   "execution_count": 24,
   "id": "79d48a7a",
   "metadata": {},
   "outputs": [
    {
     "data": {
      "text/plain": [
       "<matplotlib.legend.Legend at 0x127f2a560>"
      ]
     },
     "execution_count": 24,
     "metadata": {},
     "output_type": "execute_result"
    },
    {
     "data": {
      "image/png": "[encoded data removed]",
      "text/plain": [
       "<Figure size 640x480 with 1 Axes>"
      ]
     },
     "metadata": {},
     "output_type": "display_data"
    }
   ],
   "source": [
    "from collections import Counter\n",
    "import seaborn as sns\n",
    "import matplotlib.pyplot as plt\n",
    "describe = {}\n",
    "for user in result:\n",
    "    temp = []\n",
    "    label_count = dict(Counter(result[user][:,-1]))\n",
    "    for category in label_count:\n",
    "        temp.append(label_count[category])\n",
    "    describe[user] = temp\n",
    "matrix = np.zeros((4,4))\n",
    "for user in describe:\n",
    "    for i in range(len(describe[user])):\n",
    "        matrix[user, i] = describe[user][i]\n",
    "\n",
    "# Plot sample distribution\n",
    "sns.barplot(x=[\"User0\",\"User1\",\"User2\",\"User3\"], y=matrix[:,0], label=\"Class0\", color=\"red\")\n",
    "sns.barplot(x=[\"User0\",\"User1\",\"User2\",\"User3\"], y=matrix[:,1], label=\"Class1\", color=\"blue\")\n",
    "sns.barplot(x=[\"User0\",\"User1\",\"User2\",\"User3\"], y=matrix[:,2], label=\"Class2\", color=\"green\")\n",
    "sns.barplot(x=[\"User0\",\"User1\",\"User2\",\"User3\"], y=matrix[:,3], label=\"Class3\", color=\"yellow\")\n",
    "plt.legend()"
   ]
  }
 ],
 "metadata": {
  "kernelspec": {
   "display_name": "Python 3 (ipykernel)",
   "language": "python",
   "name": "python3"
  },
  "language_info": {
   "codemirror_mode": {
    "name": "ipython",
    "version": 3
   },
   "file_extension": ".py",
   "mimetype": "text/x-python",
   "name": "python",
   "nbconvert_exporter": "python",
   "pygments_lexer": "ipython3",
   "version": "3.10.6"
  }
 },
 "nbformat": 4,
 "nbformat_minor": 5
}
