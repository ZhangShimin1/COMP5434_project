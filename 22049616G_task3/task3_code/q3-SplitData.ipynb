{
 "cells": [
  {
   "cell_type": "code",
   "execution_count": 25,
   "id": "4a73bac3",
   "metadata": {},
   "outputs": [],
   "source": [
    "import pandas as pd\n",
    "import numpy as np\n",
    "from sklearn.model_selection import train_test_split"
   ]
  },
  {
   "cell_type": "markdown",
   "id": "836304b4",
   "metadata": {},
   "source": [
    "### 1. IID"
   ]
  },
  {
   "cell_type": "markdown",
   "id": "b355c89a",
   "metadata": {},
   "source": [
    "Firstly, we  perform randomly stratified split on the \"Train_Data.csv\" dataset, and split it into \"train part\" and \"validation part\".\n",
    "<br>Then, we perform randomly stratified split on the \"train part\", and split it into four parts."
   ]
  },
  {
   "cell_type": "code",
   "execution_count": 22,
   "id": "99717ed1",
   "metadata": {},
   "outputs": [],
   "source": [
    "data = pd.read_csv(\"DataAfterPreprocessing.csv\")\n",
    "X = data.iloc[:,:-1].values\n",
    "y = data.iloc[:,-1].values"
   ]
  },
  {
   "cell_type": "code",
   "execution_count": 23,
   "id": "a8f75404",
   "metadata": {},
   "outputs": [],
   "source": [
    "# Firstly, randomly split into the train dataset and test dataset\n",
    "X_train, X_test, y_train, y_test = train_test_split(X, y, test_size=0.25, random_state=0, stratify=y)"
   ]
  },
  {
   "cell_type": "code",
   "execution_count": 24,
   "id": "4b6263d7",
   "metadata": {},
   "outputs": [],
   "source": [
    "# Then, randomly split train dataset for 4 users\n",
    "X_left, X_user1, y_left, y_user1 = train_test_split(X_train, y_train, test_size=1/4, random_state=0, stratify=y_train)\n",
    "X_left, X_user2, y_left, y_user2 = train_test_split(X_left, y_left, test_size=1/3, random_state=0, stratify=y_left)\n",
    "X_user4, X_user3, y_user4, y_user3 = train_test_split(X_left, y_left, test_size=1/2, random_state=0, stratify=y_left)"
   ]
  }
 ],
 "metadata": {
  "kernelspec": {
   "display_name": "Python 3 (ipykernel)",
   "language": "python",
   "name": "python3"
  },
  "language_info": {
   "codemirror_mode": {
    "name": "ipython",
    "version": 3
   },
   "file_extension": ".py",
   "mimetype": "text/x-python",
   "name": "python",
   "nbconvert_exporter": "python",
   "pygments_lexer": "ipython3",
   "version": "3.10.6"
  }
 },
 "nbformat": 4,
 "nbformat_minor": 5
}
